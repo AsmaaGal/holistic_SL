{
 "cells": [
  {
   "cell_type": "code",
   "execution_count": 39,
   "metadata": {},
   "outputs": [],
   "source": [
    "from PIL import ImageFont\n",
    "from PIL import Image\n",
    "from PIL import ImageDraw\n",
    "import pickle\n",
    "\n",
    "import cv2\n",
    "import mediapipe as mp\n",
    "import numpy as np\n",
    "import pandas as pd\n",
    "\n",
    "#Arabic library\n",
    "import arabic_reshaper\n",
    "from bidi.algorithm import get_display\n",
    "#voice Libraries\n",
    "import pyttsx3\n",
    "from gtts import gTTS\n",
    "import IPython.display as ipd\n",
    "\n",
    "from io import BytesIO\n",
    "import time\n",
    "import pygame\n",
    "\n"
   ]
  },
  {
   "cell_type": "code",
   "execution_count": 40,
   "metadata": {},
   "outputs": [],
   "source": [
    "\n",
    "\n",
    "mp_drawing = mp.solutions.drawing_utils # Drawing helpers\n",
    "mp_holistic = mp.solutions.holistic # Mediapipe Solutions"
   ]
  },
  {
   "cell_type": "code",
   "execution_count": 41,
   "metadata": {},
   "outputs": [],
   "source": [
    "with open('body_language_model.pkl', 'rb') as f:\n",
    "    model = pickle.load(f)"
   ]
  },
  {
   "cell_type": "code",
   "execution_count": 42,
   "metadata": {},
   "outputs": [],
   "source": [
    "def speake(text):\n",
    "    mp3_fp =BytesIO()\n",
    "    tts = gTTS(text,lang=\"ar\")\n",
    "    tts.write_to_fp(mp3_fp)\n",
    "    return mp3_fp\n",
    "\n",
    "def extract_arabic(word,labels_dict): \n",
    "    body =word\n",
    "    for i in labels_dict:\n",
    "        if i[0] ==body:\n",
    "            print(\"i\",i)\n",
    "            return i[1]\n",
    "    return 0\n",
    "    "
   ]
  },
  {
   "cell_type": "code",
   "execution_count": 44,
   "metadata": {},
   "outputs": [
    {
     "name": "stderr",
     "output_type": "stream",
     "text": [
      "c:\\Users\\User\\AppData\\Local\\Programs\\Python\\Python39\\lib\\site-packages\\sklearn\\base.py:493: UserWarning: X does not have valid feature names, but StandardScaler was fitted with feature names\n",
      "  warnings.warn(\n",
      "c:\\Users\\User\\AppData\\Local\\Programs\\Python\\Python39\\lib\\site-packages\\sklearn\\base.py:493: UserWarning: X does not have valid feature names, but StandardScaler was fitted with feature names\n",
      "  warnings.warn(\n"
     ]
    },
    {
     "name": "stdout",
     "output_type": "stream",
     "text": [
      "body_language_class Ismy\n",
      "Ismy [0.46 0.01 0.37 0.01 0.15]\n",
      "i ['Ismy', 'اسمي']\n",
      "seq اسمي\n",
      "reshaped_text ﺍﺳﻤﻲ\n",
      "bidi_text ﻲﻤﺳﺍ\n",
      "elapsed_time 2.8730292320251465\n",
      "old_text ﺍﺳﻤﻲ\n"
     ]
    },
    {
     "name": "stderr",
     "output_type": "stream",
     "text": [
      "c:\\Users\\User\\AppData\\Local\\Programs\\Python\\Python39\\lib\\site-packages\\sklearn\\base.py:493: UserWarning: X does not have valid feature names, but StandardScaler was fitted with feature names\n",
      "  warnings.warn(\n",
      "c:\\Users\\User\\AppData\\Local\\Programs\\Python\\Python39\\lib\\site-packages\\sklearn\\base.py:493: UserWarning: X does not have valid feature names, but StandardScaler was fitted with feature names\n",
      "  warnings.warn(\n"
     ]
    },
    {
     "name": "stdout",
     "output_type": "stream",
     "text": [
      "body_language_class alekom\n",
      "alekom [0.33 0.01 0.42 0.04 0.2 ]\n",
      "i ['alekom', 'عليكم']\n",
      "seq عليكم\n",
      "reshaped_text ﻋﻠﻴﻜﻢ\n",
      "bidi_text ﻢﻜﻴﻠﻋ\n",
      "elapsed_time 3.975788116455078\n",
      "old_text ﻋﻠﻴﻜﻢ\n"
     ]
    },
    {
     "name": "stderr",
     "output_type": "stream",
     "text": [
      "c:\\Users\\User\\AppData\\Local\\Programs\\Python\\Python39\\lib\\site-packages\\sklearn\\base.py:493: UserWarning: X does not have valid feature names, but StandardScaler was fitted with feature names\n",
      "  warnings.warn(\n",
      "c:\\Users\\User\\AppData\\Local\\Programs\\Python\\Python39\\lib\\site-packages\\sklearn\\base.py:493: UserWarning: X does not have valid feature names, but StandardScaler was fitted with feature names\n",
      "  warnings.warn(\n"
     ]
    },
    {
     "name": "stdout",
     "output_type": "stream",
     "text": [
      "body_language_class ana\n",
      "ana [0.21 0.   0.32 0.   0.47]\n",
      "i ['ana', 'أنا']\n",
      "seq أنا\n",
      "reshaped_text ﺃﻧﺎ\n",
      "bidi_text ﺎﻧﺃ\n",
      "elapsed_time 4.562197923660278\n",
      "old_text ﺃﻧﺎ\n"
     ]
    },
    {
     "name": "stderr",
     "output_type": "stream",
     "text": [
      "c:\\Users\\User\\AppData\\Local\\Programs\\Python\\Python39\\lib\\site-packages\\sklearn\\base.py:493: UserWarning: X does not have valid feature names, but StandardScaler was fitted with feature names\n",
      "  warnings.warn(\n",
      "c:\\Users\\User\\AppData\\Local\\Programs\\Python\\Python39\\lib\\site-packages\\sklearn\\base.py:493: UserWarning: X does not have valid feature names, but StandardScaler was fitted with feature names\n",
      "  warnings.warn(\n"
     ]
    },
    {
     "name": "stdout",
     "output_type": "stream",
     "text": [
      "body_language_class alekom\n",
      "alekom [0.33 0.01 0.48 0.02 0.16]\n",
      "i ['alekom', 'عليكم']\n",
      "seq عليكم\n",
      "reshaped_text ﻋﻠﻴﻜﻢ\n",
      "bidi_text ﻢﻜﻴﻠﻋ\n",
      "elapsed_time 5.280703783035278\n",
      "old_text ﻋﻠﻴﻜﻢ\n"
     ]
    },
    {
     "name": "stderr",
     "output_type": "stream",
     "text": [
      "c:\\Users\\User\\AppData\\Local\\Programs\\Python\\Python39\\lib\\site-packages\\sklearn\\base.py:493: UserWarning: X does not have valid feature names, but StandardScaler was fitted with feature names\n",
      "  warnings.warn(\n",
      "c:\\Users\\User\\AppData\\Local\\Programs\\Python\\Python39\\lib\\site-packages\\sklearn\\base.py:493: UserWarning: X does not have valid feature names, but StandardScaler was fitted with feature names\n",
      "  warnings.warn(\n"
     ]
    },
    {
     "name": "stdout",
     "output_type": "stream",
     "text": [
      "body_language_class alekom\n",
      "alekom [0.31 0.02 0.51 0.02 0.14]\n",
      "i ['alekom', 'عليكم']\n",
      "seq عليكم\n",
      "reshaped_text ﻋﻠﻴﻜﻢ\n",
      "bidi_text ﻢﻜﻴﻠﻋ\n",
      "elapsed_time 6.076258659362793\n",
      "arabic,text  ﻋﻠﻴﻜﻢ\n",
      "old_text ﻋﻠﻴﻜﻢ\n"
     ]
    },
    {
     "name": "stderr",
     "output_type": "stream",
     "text": [
      "c:\\Users\\User\\AppData\\Local\\Programs\\Python\\Python39\\lib\\site-packages\\sklearn\\base.py:493: UserWarning: X does not have valid feature names, but StandardScaler was fitted with feature names\n",
      "  warnings.warn(\n",
      "c:\\Users\\User\\AppData\\Local\\Programs\\Python\\Python39\\lib\\site-packages\\sklearn\\base.py:493: UserWarning: X does not have valid feature names, but StandardScaler was fitted with feature names\n",
      "  warnings.warn(\n"
     ]
    },
    {
     "name": "stdout",
     "output_type": "stream",
     "text": [
      "body_language_class alekom\n",
      "alekom [0.34 0.02 0.51 0.03 0.1 ]\n",
      "i ['alekom', 'عليكم']\n",
      "seq عليكم\n",
      "reshaped_text ﻋﻠﻴﻜﻢ\n",
      "bidi_text ﻢﻜﻴﻠﻋ\n",
      "elapsed_time 0.720512866973877\n",
      "old_text ﻋﻠﻴﻜﻢ\n"
     ]
    },
    {
     "name": "stderr",
     "output_type": "stream",
     "text": [
      "c:\\Users\\User\\AppData\\Local\\Programs\\Python\\Python39\\lib\\site-packages\\sklearn\\base.py:493: UserWarning: X does not have valid feature names, but StandardScaler was fitted with feature names\n",
      "  warnings.warn(\n",
      "c:\\Users\\User\\AppData\\Local\\Programs\\Python\\Python39\\lib\\site-packages\\sklearn\\base.py:493: UserWarning: X does not have valid feature names, but StandardScaler was fitted with feature names\n",
      "  warnings.warn(\n"
     ]
    },
    {
     "name": "stdout",
     "output_type": "stream",
     "text": [
      "body_language_class Ismy\n",
      "Ismy [0.41 0.02 0.41 0.01 0.15]\n",
      "i ['Ismy', 'اسمي']\n",
      "seq اسمي\n",
      "reshaped_text ﺍﺳﻤﻲ\n",
      "bidi_text ﻲﻤﺳﺍ\n",
      "elapsed_time 1.476050853729248\n",
      "old_text ﺍﺳﻤﻲ\n"
     ]
    },
    {
     "name": "stderr",
     "output_type": "stream",
     "text": [
      "c:\\Users\\User\\AppData\\Local\\Programs\\Python\\Python39\\lib\\site-packages\\sklearn\\base.py:493: UserWarning: X does not have valid feature names, but StandardScaler was fitted with feature names\n",
      "  warnings.warn(\n",
      "c:\\Users\\User\\AppData\\Local\\Programs\\Python\\Python39\\lib\\site-packages\\sklearn\\base.py:493: UserWarning: X does not have valid feature names, but StandardScaler was fitted with feature names\n",
      "  warnings.warn(\n"
     ]
    },
    {
     "name": "stdout",
     "output_type": "stream",
     "text": [
      "body_language_class alekom\n",
      "alekom [0.37 0.03 0.48 0.01 0.11]\n",
      "i ['alekom', 'عليكم']\n",
      "seq عليكم\n",
      "reshaped_text ﻋﻠﻴﻜﻢ\n",
      "bidi_text ﻢﻜﻴﻠﻋ\n",
      "elapsed_time 2.3848037719726562\n",
      "old_text ﻋﻠﻴﻜﻢ\n"
     ]
    },
    {
     "name": "stderr",
     "output_type": "stream",
     "text": [
      "c:\\Users\\User\\AppData\\Local\\Programs\\Python\\Python39\\lib\\site-packages\\sklearn\\base.py:493: UserWarning: X does not have valid feature names, but StandardScaler was fitted with feature names\n",
      "  warnings.warn(\n",
      "c:\\Users\\User\\AppData\\Local\\Programs\\Python\\Python39\\lib\\site-packages\\sklearn\\base.py:493: UserWarning: X does not have valid feature names, but StandardScaler was fitted with feature names\n",
      "  warnings.warn(\n"
     ]
    },
    {
     "name": "stdout",
     "output_type": "stream",
     "text": [
      "body_language_class Ismy\n",
      "Ismy [0.5  0.02 0.35 0.   0.13]\n",
      "i ['Ismy', 'اسمي']\n",
      "seq اسمي\n",
      "reshaped_text ﺍﺳﻤﻲ\n",
      "bidi_text ﻲﻤﺳﺍ\n",
      "elapsed_time 3.225419521331787\n",
      "old_text ﺍﺳﻤﻲ\n"
     ]
    },
    {
     "name": "stderr",
     "output_type": "stream",
     "text": [
      "c:\\Users\\User\\AppData\\Local\\Programs\\Python\\Python39\\lib\\site-packages\\sklearn\\base.py:493: UserWarning: X does not have valid feature names, but StandardScaler was fitted with feature names\n",
      "  warnings.warn(\n",
      "c:\\Users\\User\\AppData\\Local\\Programs\\Python\\Python39\\lib\\site-packages\\sklearn\\base.py:493: UserWarning: X does not have valid feature names, but StandardScaler was fitted with feature names\n",
      "  warnings.warn(\n"
     ]
    },
    {
     "name": "stdout",
     "output_type": "stream",
     "text": [
      "body_language_class Ismy\n",
      "Ismy [0.55 0.04 0.28 0.01 0.12]\n",
      "i ['Ismy', 'اسمي']\n",
      "seq اسمي\n",
      "reshaped_text ﺍﺳﻤﻲ\n",
      "bidi_text ﻲﻤﺳﺍ\n",
      "elapsed_time 3.6787161827087402\n",
      "arabic,text  ﻋﻠﻴﻜﻢ ﺍﺳﻤﻲ\n",
      "old_text ﺍﺳﻤﻲ\n"
     ]
    },
    {
     "name": "stderr",
     "output_type": "stream",
     "text": [
      "c:\\Users\\User\\AppData\\Local\\Programs\\Python\\Python39\\lib\\site-packages\\sklearn\\base.py:493: UserWarning: X does not have valid feature names, but StandardScaler was fitted with feature names\n",
      "  warnings.warn(\n",
      "c:\\Users\\User\\AppData\\Local\\Programs\\Python\\Python39\\lib\\site-packages\\sklearn\\base.py:493: UserWarning: X does not have valid feature names, but StandardScaler was fitted with feature names\n",
      "  warnings.warn(\n"
     ]
    },
    {
     "name": "stdout",
     "output_type": "stream",
     "text": [
      "body_language_class Ismy\n",
      "Ismy [0.55 0.05 0.3  0.01 0.09]\n",
      "i ['Ismy', 'اسمي']\n",
      "seq اسمي\n",
      "reshaped_text ﺍﺳﻤﻲ\n",
      "bidi_text ﻲﻤﺳﺍ\n",
      "elapsed_time 0.7276389598846436\n",
      "old_text ﺍﺳﻤﻲ\n"
     ]
    },
    {
     "name": "stderr",
     "output_type": "stream",
     "text": [
      "c:\\Users\\User\\AppData\\Local\\Programs\\Python\\Python39\\lib\\site-packages\\sklearn\\base.py:493: UserWarning: X does not have valid feature names, but StandardScaler was fitted with feature names\n",
      "  warnings.warn(\n",
      "c:\\Users\\User\\AppData\\Local\\Programs\\Python\\Python39\\lib\\site-packages\\sklearn\\base.py:493: UserWarning: X does not have valid feature names, but StandardScaler was fitted with feature names\n",
      "  warnings.warn(\n"
     ]
    },
    {
     "name": "stdout",
     "output_type": "stream",
     "text": [
      "body_language_class Ismy\n",
      "Ismy [0.53 0.05 0.33 0.   0.09]\n",
      "i ['Ismy', 'اسمي']\n",
      "seq اسمي\n",
      "reshaped_text ﺍﺳﻤﻲ\n",
      "bidi_text ﻲﻤﺳﺍ\n",
      "elapsed_time 1.6042556762695312\n",
      "old_text ﺍﺳﻤﻲ\n"
     ]
    },
    {
     "name": "stderr",
     "output_type": "stream",
     "text": [
      "c:\\Users\\User\\AppData\\Local\\Programs\\Python\\Python39\\lib\\site-packages\\sklearn\\base.py:493: UserWarning: X does not have valid feature names, but StandardScaler was fitted with feature names\n",
      "  warnings.warn(\n",
      "c:\\Users\\User\\AppData\\Local\\Programs\\Python\\Python39\\lib\\site-packages\\sklearn\\base.py:493: UserWarning: X does not have valid feature names, but StandardScaler was fitted with feature names\n",
      "  warnings.warn(\n"
     ]
    },
    {
     "name": "stdout",
     "output_type": "stream",
     "text": [
      "body_language_class Ismy\n",
      "Ismy [0.48 0.07 0.31 0.   0.14]\n",
      "i ['Ismy', 'اسمي']\n",
      "seq اسمي\n",
      "reshaped_text ﺍﺳﻤﻲ\n",
      "bidi_text ﻲﻤﺳﺍ\n",
      "elapsed_time 2.354779005050659\n",
      "arabic,text  ﻋﻠﻴﻜﻢ ﺍﺳﻤﻲ ﺍﺳﻤﻲ\n",
      "old_text ﺍﺳﻤﻲ\n"
     ]
    },
    {
     "name": "stderr",
     "output_type": "stream",
     "text": [
      "c:\\Users\\User\\AppData\\Local\\Programs\\Python\\Python39\\lib\\site-packages\\sklearn\\base.py:493: UserWarning: X does not have valid feature names, but StandardScaler was fitted with feature names\n",
      "  warnings.warn(\n",
      "c:\\Users\\User\\AppData\\Local\\Programs\\Python\\Python39\\lib\\site-packages\\sklearn\\base.py:493: UserWarning: X does not have valid feature names, but StandardScaler was fitted with feature names\n",
      "  warnings.warn(\n"
     ]
    },
    {
     "name": "stdout",
     "output_type": "stream",
     "text": [
      "body_language_class al salam\n",
      "al salam [0.19 0.68 0.04 0.04 0.05]\n",
      "i ['al salam', 'السلام']\n",
      "seq السلام\n",
      "reshaped_text ﺍﻟﺴﻼﻡ\n",
      "bidi_text ﻡﻼﺴﻟﺍ\n",
      "elapsed_time 0.7266323566436768\n",
      "old_text ﺍﻟﺴﻼﻡ\n"
     ]
    },
    {
     "name": "stderr",
     "output_type": "stream",
     "text": [
      "c:\\Users\\User\\AppData\\Local\\Programs\\Python\\Python39\\lib\\site-packages\\sklearn\\base.py:493: UserWarning: X does not have valid feature names, but StandardScaler was fitted with feature names\n",
      "  warnings.warn(\n",
      "c:\\Users\\User\\AppData\\Local\\Programs\\Python\\Python39\\lib\\site-packages\\sklearn\\base.py:493: UserWarning: X does not have valid feature names, but StandardScaler was fitted with feature names\n",
      "  warnings.warn(\n"
     ]
    },
    {
     "name": "stdout",
     "output_type": "stream",
     "text": [
      "body_language_class al salam\n",
      "al salam [0.2  0.57 0.07 0.06 0.1 ]\n",
      "i ['al salam', 'السلام']\n",
      "seq السلام\n",
      "reshaped_text ﺍﻟﺴﻼﻡ\n",
      "bidi_text ﻡﻼﺴﻟﺍ\n",
      "elapsed_time 1.4871373176574707\n",
      "old_text ﺍﻟﺴﻼﻡ\n"
     ]
    },
    {
     "name": "stderr",
     "output_type": "stream",
     "text": [
      "c:\\Users\\User\\AppData\\Local\\Programs\\Python\\Python39\\lib\\site-packages\\sklearn\\base.py:493: UserWarning: X does not have valid feature names, but StandardScaler was fitted with feature names\n",
      "  warnings.warn(\n",
      "c:\\Users\\User\\AppData\\Local\\Programs\\Python\\Python39\\lib\\site-packages\\sklearn\\base.py:493: UserWarning: X does not have valid feature names, but StandardScaler was fitted with feature names\n",
      "  warnings.warn(\n"
     ]
    },
    {
     "name": "stdout",
     "output_type": "stream",
     "text": [
      "body_language_class al salam\n",
      "al salam [0.22 0.4  0.23 0.07 0.08]\n",
      "i ['al salam', 'السلام']\n",
      "seq السلام\n",
      "reshaped_text ﺍﻟﺴﻼﻡ\n",
      "bidi_text ﻡﻼﺴﻟﺍ\n",
      "elapsed_time 2.253676176071167\n",
      "arabic,text  ﻋﻠﻴﻜﻢ ﺍﺳﻤﻲ ﺍﺳﻤﻲ ﺍﻟﺴﻼﻡ\n",
      "old_text ﺍﻟﺴﻼﻡ\n"
     ]
    },
    {
     "name": "stderr",
     "output_type": "stream",
     "text": [
      "c:\\Users\\User\\AppData\\Local\\Programs\\Python\\Python39\\lib\\site-packages\\sklearn\\base.py:493: UserWarning: X does not have valid feature names, but StandardScaler was fitted with feature names\n",
      "  warnings.warn(\n",
      "c:\\Users\\User\\AppData\\Local\\Programs\\Python\\Python39\\lib\\site-packages\\sklearn\\base.py:493: UserWarning: X does not have valid feature names, but StandardScaler was fitted with feature names\n",
      "  warnings.warn(\n"
     ]
    },
    {
     "name": "stdout",
     "output_type": "stream",
     "text": [
      "body_language_class al salam\n",
      "al salam [0.13 0.42 0.26 0.11 0.08]\n",
      "i ['al salam', 'السلام']\n",
      "seq السلام\n",
      "reshaped_text ﺍﻟﺴﻼﻡ\n",
      "bidi_text ﻡﻼﺴﻟﺍ\n",
      "elapsed_time 0.7625384330749512\n",
      "old_text ﺍﻟﺴﻼﻡ\n"
     ]
    },
    {
     "name": "stderr",
     "output_type": "stream",
     "text": [
      "c:\\Users\\User\\AppData\\Local\\Programs\\Python\\Python39\\lib\\site-packages\\sklearn\\base.py:493: UserWarning: X does not have valid feature names, but StandardScaler was fitted with feature names\n",
      "  warnings.warn(\n",
      "c:\\Users\\User\\AppData\\Local\\Programs\\Python\\Python39\\lib\\site-packages\\sklearn\\base.py:493: UserWarning: X does not have valid feature names, but StandardScaler was fitted with feature names\n",
      "  warnings.warn(\n"
     ]
    },
    {
     "name": "stdout",
     "output_type": "stream",
     "text": [
      "body_language_class al salam\n",
      "al salam [0.26 0.52 0.08 0.09 0.05]\n",
      "i ['al salam', 'السلام']\n",
      "seq السلام\n",
      "reshaped_text ﺍﻟﺴﻼﻡ\n",
      "bidi_text ﻡﻼﺴﻟﺍ\n",
      "elapsed_time 1.5701031684875488\n",
      "old_text ﺍﻟﺴﻼﻡ\n"
     ]
    },
    {
     "name": "stderr",
     "output_type": "stream",
     "text": [
      "c:\\Users\\User\\AppData\\Local\\Programs\\Python\\Python39\\lib\\site-packages\\sklearn\\base.py:493: UserWarning: X does not have valid feature names, but StandardScaler was fitted with feature names\n",
      "  warnings.warn(\n",
      "c:\\Users\\User\\AppData\\Local\\Programs\\Python\\Python39\\lib\\site-packages\\sklearn\\base.py:493: UserWarning: X does not have valid feature names, but StandardScaler was fitted with feature names\n",
      "  warnings.warn(\n"
     ]
    },
    {
     "name": "stdout",
     "output_type": "stream",
     "text": [
      "body_language_class alekom\n",
      "alekom [0.2  0.03 0.56 0.01 0.2 ]\n",
      "i ['alekom', 'عليكم']\n",
      "seq عليكم\n",
      "reshaped_text ﻋﻠﻴﻜﻢ\n",
      "bidi_text ﻢﻜﻴﻠﻋ\n",
      "elapsed_time 2.3676676750183105\n",
      "old_text ﻋﻠﻴﻜﻢ\n"
     ]
    },
    {
     "name": "stderr",
     "output_type": "stream",
     "text": [
      "c:\\Users\\User\\AppData\\Local\\Programs\\Python\\Python39\\lib\\site-packages\\sklearn\\base.py:493: UserWarning: X does not have valid feature names, but StandardScaler was fitted with feature names\n",
      "  warnings.warn(\n",
      "c:\\Users\\User\\AppData\\Local\\Programs\\Python\\Python39\\lib\\site-packages\\sklearn\\base.py:493: UserWarning: X does not have valid feature names, but StandardScaler was fitted with feature names\n",
      "  warnings.warn(\n"
     ]
    },
    {
     "name": "stdout",
     "output_type": "stream",
     "text": [
      "body_language_class alekom\n",
      "alekom [0.31 0.09 0.4  0.01 0.19]\n",
      "i ['alekom', 'عليكم']\n",
      "seq عليكم\n",
      "reshaped_text ﻋﻠﻴﻜﻢ\n",
      "bidi_text ﻢﻜﻴﻠﻋ\n",
      "elapsed_time 3.1352181434631348\n",
      "arabic,text  ﻋﻠﻴﻜﻢ ﺍﺳﻤﻲ ﺍﺳﻤﻲ ﺍﻟﺴﻼﻡ ﻋﻠﻴﻜﻢ\n",
      "old_text ﻋﻠﻴﻜﻢ\n"
     ]
    },
    {
     "name": "stderr",
     "output_type": "stream",
     "text": [
      "c:\\Users\\User\\AppData\\Local\\Programs\\Python\\Python39\\lib\\site-packages\\sklearn\\base.py:493: UserWarning: X does not have valid feature names, but StandardScaler was fitted with feature names\n",
      "  warnings.warn(\n",
      "c:\\Users\\User\\AppData\\Local\\Programs\\Python\\Python39\\lib\\site-packages\\sklearn\\base.py:493: UserWarning: X does not have valid feature names, but StandardScaler was fitted with feature names\n",
      "  warnings.warn(\n"
     ]
    },
    {
     "name": "stdout",
     "output_type": "stream",
     "text": [
      "body_language_class alekom\n",
      "alekom [0.28 0.07 0.45 0.04 0.16]\n",
      "i ['alekom', 'عليكم']\n",
      "seq عليكم\n",
      "reshaped_text ﻋﻠﻴﻜﻢ\n",
      "bidi_text ﻢﻜﻴﻠﻋ\n",
      "elapsed_time 0.773512601852417\n",
      "old_text ﻋﻠﻴﻜﻢ\n"
     ]
    },
    {
     "name": "stderr",
     "output_type": "stream",
     "text": [
      "c:\\Users\\User\\AppData\\Local\\Programs\\Python\\Python39\\lib\\site-packages\\sklearn\\base.py:493: UserWarning: X does not have valid feature names, but StandardScaler was fitted with feature names\n",
      "  warnings.warn(\n",
      "c:\\Users\\User\\AppData\\Local\\Programs\\Python\\Python39\\lib\\site-packages\\sklearn\\base.py:493: UserWarning: X does not have valid feature names, but StandardScaler was fitted with feature names\n",
      "  warnings.warn(\n"
     ]
    },
    {
     "name": "stdout",
     "output_type": "stream",
     "text": [
      "body_language_class Ismy\n",
      "Ismy [0.37 0.13 0.33 0.   0.17]\n",
      "i ['Ismy', 'اسمي']\n",
      "seq اسمي\n",
      "reshaped_text ﺍﺳﻤﻲ\n",
      "bidi_text ﻲﻤﺳﺍ\n",
      "elapsed_time 1.5681071281433105\n",
      "old_text ﺍﺳﻤﻲ\n"
     ]
    },
    {
     "name": "stderr",
     "output_type": "stream",
     "text": [
      "c:\\Users\\User\\AppData\\Local\\Programs\\Python\\Python39\\lib\\site-packages\\sklearn\\base.py:493: UserWarning: X does not have valid feature names, but StandardScaler was fitted with feature names\n",
      "  warnings.warn(\n",
      "c:\\Users\\User\\AppData\\Local\\Programs\\Python\\Python39\\lib\\site-packages\\sklearn\\base.py:493: UserWarning: X does not have valid feature names, but StandardScaler was fitted with feature names\n",
      "  warnings.warn(\n"
     ]
    },
    {
     "name": "stdout",
     "output_type": "stream",
     "text": [
      "body_language_class Ismy\n",
      "Ismy [0.48 0.19 0.19 0.   0.14]\n",
      "i ['Ismy', 'اسمي']\n",
      "seq اسمي\n",
      "reshaped_text ﺍﺳﻤﻲ\n",
      "bidi_text ﻲﻤﺳﺍ\n",
      "elapsed_time 2.317605495452881\n",
      "arabic,text  ﻋﻠﻴﻜﻢ ﺍﺳﻤﻲ ﺍﺳﻤﻲ ﺍﻟﺴﻼﻡ ﻋﻠﻴﻜﻢ ﺍﺳﻤﻲ\n",
      "old_text ﺍﺳﻤﻲ\n"
     ]
    },
    {
     "name": "stderr",
     "output_type": "stream",
     "text": [
      "c:\\Users\\User\\AppData\\Local\\Programs\\Python\\Python39\\lib\\site-packages\\sklearn\\base.py:493: UserWarning: X does not have valid feature names, but StandardScaler was fitted with feature names\n",
      "  warnings.warn(\n",
      "c:\\Users\\User\\AppData\\Local\\Programs\\Python\\Python39\\lib\\site-packages\\sklearn\\base.py:493: UserWarning: X does not have valid feature names, but StandardScaler was fitted with feature names\n",
      "  warnings.warn(\n"
     ]
    },
    {
     "name": "stdout",
     "output_type": "stream",
     "text": [
      "body_language_class Ismy\n",
      "Ismy [0.6  0.19 0.03 0.01 0.17]\n",
      "i ['Ismy', 'اسمي']\n",
      "seq اسمي\n",
      "reshaped_text ﺍﺳﻤﻲ\n",
      "bidi_text ﻲﻤﺳﺍ\n",
      "elapsed_time 0.920651912689209\n",
      "old_text ﺍﺳﻤﻲ\n"
     ]
    },
    {
     "name": "stderr",
     "output_type": "stream",
     "text": [
      "c:\\Users\\User\\AppData\\Local\\Programs\\Python\\Python39\\lib\\site-packages\\sklearn\\base.py:493: UserWarning: X does not have valid feature names, but StandardScaler was fitted with feature names\n",
      "  warnings.warn(\n",
      "c:\\Users\\User\\AppData\\Local\\Programs\\Python\\Python39\\lib\\site-packages\\sklearn\\base.py:493: UserWarning: X does not have valid feature names, but StandardScaler was fitted with feature names\n",
      "  warnings.warn(\n"
     ]
    },
    {
     "name": "stdout",
     "output_type": "stream",
     "text": [
      "body_language_class Ismy\n",
      "Ismy [0.46 0.08 0.25 0.01 0.2 ]\n",
      "i ['Ismy', 'اسمي']\n",
      "seq اسمي\n",
      "reshaped_text ﺍﺳﻤﻲ\n",
      "bidi_text ﻲﻤﺳﺍ\n",
      "elapsed_time 1.5371148586273193\n",
      "old_text ﺍﺳﻤﻲ\n"
     ]
    },
    {
     "name": "stderr",
     "output_type": "stream",
     "text": [
      "c:\\Users\\User\\AppData\\Local\\Programs\\Python\\Python39\\lib\\site-packages\\sklearn\\base.py:493: UserWarning: X does not have valid feature names, but StandardScaler was fitted with feature names\n",
      "  warnings.warn(\n",
      "c:\\Users\\User\\AppData\\Local\\Programs\\Python\\Python39\\lib\\site-packages\\sklearn\\base.py:493: UserWarning: X does not have valid feature names, but StandardScaler was fitted with feature names\n",
      "  warnings.warn(\n"
     ]
    },
    {
     "name": "stdout",
     "output_type": "stream",
     "text": [
      "body_language_class al salam\n",
      "al salam [0.22 0.39 0.16 0.12 0.11]\n",
      "i ['al salam', 'السلام']\n",
      "seq السلام\n",
      "reshaped_text ﺍﻟﺴﻼﻡ\n",
      "bidi_text ﻡﻼﺴﻟﺍ\n",
      "elapsed_time 2.1395134925842285\n",
      "old_text ﺍﻟﺴﻼﻡ\n"
     ]
    },
    {
     "name": "stderr",
     "output_type": "stream",
     "text": [
      "c:\\Users\\User\\AppData\\Local\\Programs\\Python\\Python39\\lib\\site-packages\\sklearn\\base.py:493: UserWarning: X does not have valid feature names, but StandardScaler was fitted with feature names\n",
      "  warnings.warn(\n",
      "c:\\Users\\User\\AppData\\Local\\Programs\\Python\\Python39\\lib\\site-packages\\sklearn\\base.py:493: UserWarning: X does not have valid feature names, but StandardScaler was fitted with feature names\n",
      "  warnings.warn(\n"
     ]
    },
    {
     "name": "stdout",
     "output_type": "stream",
     "text": [
      "body_language_class al salam\n",
      "al salam [0.16 0.36 0.23 0.13 0.12]\n",
      "i ['al salam', 'السلام']\n",
      "seq السلام\n",
      "reshaped_text ﺍﻟﺴﻼﻡ\n",
      "bidi_text ﻡﻼﺴﻟﺍ\n",
      "elapsed_time 2.951084613800049\n",
      "arabic,text  ﻋﻠﻴﻜﻢ ﺍﺳﻤﻲ ﺍﺳﻤﻲ ﺍﻟﺴﻼﻡ ﻋﻠﻴﻜﻢ ﺍﺳﻤﻲ ﺍﻟﺴﻼﻡ\n",
      "old_text ﺍﻟﺴﻼﻡ\n"
     ]
    },
    {
     "name": "stderr",
     "output_type": "stream",
     "text": [
      "c:\\Users\\User\\AppData\\Local\\Programs\\Python\\Python39\\lib\\site-packages\\sklearn\\base.py:493: UserWarning: X does not have valid feature names, but StandardScaler was fitted with feature names\n",
      "  warnings.warn(\n",
      "c:\\Users\\User\\AppData\\Local\\Programs\\Python\\Python39\\lib\\site-packages\\sklearn\\base.py:493: UserWarning: X does not have valid feature names, but StandardScaler was fitted with feature names\n",
      "  warnings.warn(\n"
     ]
    },
    {
     "name": "stdout",
     "output_type": "stream",
     "text": [
      "body_language_class al salam\n",
      "al salam [0.2  0.58 0.06 0.03 0.13]\n",
      "i ['al salam', 'السلام']\n",
      "seq السلام\n",
      "reshaped_text ﺍﻟﺴﻼﻡ\n",
      "bidi_text ﻡﻼﺴﻟﺍ\n",
      "elapsed_time 0.7155418395996094\n",
      "old_text ﺍﻟﺴﻼﻡ\n"
     ]
    },
    {
     "name": "stderr",
     "output_type": "stream",
     "text": [
      "c:\\Users\\User\\AppData\\Local\\Programs\\Python\\Python39\\lib\\site-packages\\sklearn\\base.py:493: UserWarning: X does not have valid feature names, but StandardScaler was fitted with feature names\n",
      "  warnings.warn(\n",
      "c:\\Users\\User\\AppData\\Local\\Programs\\Python\\Python39\\lib\\site-packages\\sklearn\\base.py:493: UserWarning: X does not have valid feature names, but StandardScaler was fitted with feature names\n",
      "  warnings.warn(\n"
     ]
    },
    {
     "name": "stdout",
     "output_type": "stream",
     "text": [
      "body_language_class al salam\n",
      "al salam [0.22 0.55 0.09 0.04 0.1 ]\n",
      "i ['al salam', 'السلام']\n",
      "seq السلام\n",
      "reshaped_text ﺍﻟﺴﻼﻡ\n",
      "bidi_text ﻡﻼﺴﻟﺍ\n",
      "elapsed_time 1.5281140804290771\n",
      "old_text ﺍﻟﺴﻼﻡ\n"
     ]
    },
    {
     "name": "stderr",
     "output_type": "stream",
     "text": [
      "c:\\Users\\User\\AppData\\Local\\Programs\\Python\\Python39\\lib\\site-packages\\sklearn\\base.py:493: UserWarning: X does not have valid feature names, but StandardScaler was fitted with feature names\n",
      "  warnings.warn(\n",
      "c:\\Users\\User\\AppData\\Local\\Programs\\Python\\Python39\\lib\\site-packages\\sklearn\\base.py:493: UserWarning: X does not have valid feature names, but StandardScaler was fitted with feature names\n",
      "  warnings.warn(\n"
     ]
    },
    {
     "name": "stdout",
     "output_type": "stream",
     "text": [
      "body_language_class alekom\n",
      "alekom [0.34 0.02 0.4  0.02 0.22]\n",
      "i ['alekom', 'عليكم']\n",
      "seq عليكم\n",
      "reshaped_text ﻋﻠﻴﻜﻢ\n",
      "bidi_text ﻢﻜﻴﻠﻋ\n",
      "elapsed_time 2.1435422897338867\n",
      "old_text ﻋﻠﻴﻜﻢ\n"
     ]
    },
    {
     "name": "stderr",
     "output_type": "stream",
     "text": [
      "c:\\Users\\User\\AppData\\Local\\Programs\\Python\\Python39\\lib\\site-packages\\sklearn\\base.py:493: UserWarning: X does not have valid feature names, but StandardScaler was fitted with feature names\n",
      "  warnings.warn(\n",
      "c:\\Users\\User\\AppData\\Local\\Programs\\Python\\Python39\\lib\\site-packages\\sklearn\\base.py:493: UserWarning: X does not have valid feature names, but StandardScaler was fitted with feature names\n",
      "  warnings.warn(\n"
     ]
    },
    {
     "name": "stdout",
     "output_type": "stream",
     "text": [
      "body_language_class alekom\n",
      "alekom [0.26 0.03 0.47 0.02 0.22]\n",
      "i ['alekom', 'عليكم']\n",
      "seq عليكم\n",
      "reshaped_text ﻋﻠﻴﻜﻢ\n",
      "bidi_text ﻢﻜﻴﻠﻋ\n",
      "elapsed_time 3.054157018661499\n",
      "arabic,text  ﻋﻠﻴﻜﻢ ﺍﺳﻤﻲ ﺍﺳﻤﻲ ﺍﻟﺴﻼﻡ ﻋﻠﻴﻜﻢ ﺍﺳﻤﻲ ﺍﻟﺴﻼﻡ ﻋﻠﻴﻜﻢ\n",
      "old_text ﻋﻠﻴﻜﻢ\n"
     ]
    },
    {
     "name": "stderr",
     "output_type": "stream",
     "text": [
      "c:\\Users\\User\\AppData\\Local\\Programs\\Python\\Python39\\lib\\site-packages\\sklearn\\base.py:493: UserWarning: X does not have valid feature names, but StandardScaler was fitted with feature names\n",
      "  warnings.warn(\n",
      "c:\\Users\\User\\AppData\\Local\\Programs\\Python\\Python39\\lib\\site-packages\\sklearn\\base.py:493: UserWarning: X does not have valid feature names, but StandardScaler was fitted with feature names\n",
      "  warnings.warn(\n"
     ]
    },
    {
     "name": "stdout",
     "output_type": "stream",
     "text": [
      "body_language_class Ismy\n",
      "Ismy [0.42 0.11 0.32 0.   0.15]\n",
      "i ['Ismy', 'اسمي']\n",
      "seq اسمي\n",
      "reshaped_text ﺍﺳﻤﻲ\n",
      "bidi_text ﻲﻤﺳﺍ\n",
      "elapsed_time 0.8256471157073975\n",
      "old_text ﺍﺳﻤﻲ\n"
     ]
    },
    {
     "name": "stderr",
     "output_type": "stream",
     "text": [
      "c:\\Users\\User\\AppData\\Local\\Programs\\Python\\Python39\\lib\\site-packages\\sklearn\\base.py:493: UserWarning: X does not have valid feature names, but StandardScaler was fitted with feature names\n",
      "  warnings.warn(\n",
      "c:\\Users\\User\\AppData\\Local\\Programs\\Python\\Python39\\lib\\site-packages\\sklearn\\base.py:493: UserWarning: X does not have valid feature names, but StandardScaler was fitted with feature names\n",
      "  warnings.warn(\n"
     ]
    },
    {
     "name": "stdout",
     "output_type": "stream",
     "text": [
      "body_language_class Ismy\n",
      "Ismy [0.42 0.13 0.26 0.   0.19]\n",
      "i ['Ismy', 'اسمي']\n",
      "seq اسمي\n",
      "reshaped_text ﺍﺳﻤﻲ\n",
      "bidi_text ﻲﻤﺳﺍ\n",
      "elapsed_time 1.822347640991211\n",
      "old_text ﺍﺳﻤﻲ\n"
     ]
    },
    {
     "name": "stderr",
     "output_type": "stream",
     "text": [
      "c:\\Users\\User\\AppData\\Local\\Programs\\Python\\Python39\\lib\\site-packages\\sklearn\\base.py:493: UserWarning: X does not have valid feature names, but StandardScaler was fitted with feature names\n",
      "  warnings.warn(\n",
      "c:\\Users\\User\\AppData\\Local\\Programs\\Python\\Python39\\lib\\site-packages\\sklearn\\base.py:493: UserWarning: X does not have valid feature names, but StandardScaler was fitted with feature names\n",
      "  warnings.warn(\n"
     ]
    },
    {
     "name": "stdout",
     "output_type": "stream",
     "text": [
      "body_language_class Ismy\n",
      "Ismy [0.53 0.13 0.19 0.   0.15]\n",
      "i ['Ismy', 'اسمي']\n",
      "seq اسمي\n",
      "reshaped_text ﺍﺳﻤﻲ\n",
      "bidi_text ﻲﻤﺳﺍ\n",
      "elapsed_time 2.456817865371704\n",
      "arabic,text  ﻋﻠﻴﻜﻢ ﺍﺳﻤﻲ ﺍﺳﻤﻲ ﺍﻟﺴﻼﻡ ﻋﻠﻴﻜﻢ ﺍﺳﻤﻲ ﺍﻟﺴﻼﻡ ﻋﻠﻴﻜﻢ ﺍﺳﻤﻲ\n",
      "old_text ﺍﺳﻤﻲ\n"
     ]
    },
    {
     "name": "stderr",
     "output_type": "stream",
     "text": [
      "c:\\Users\\User\\AppData\\Local\\Programs\\Python\\Python39\\lib\\site-packages\\sklearn\\base.py:493: UserWarning: X does not have valid feature names, but StandardScaler was fitted with feature names\n",
      "  warnings.warn(\n",
      "c:\\Users\\User\\AppData\\Local\\Programs\\Python\\Python39\\lib\\site-packages\\sklearn\\base.py:493: UserWarning: X does not have valid feature names, but StandardScaler was fitted with feature names\n",
      "  warnings.warn(\n"
     ]
    },
    {
     "name": "stdout",
     "output_type": "stream",
     "text": [
      "body_language_class Ismy\n",
      "Ismy [0.53 0.04 0.29 0.   0.14]\n",
      "i ['Ismy', 'اسمي']\n",
      "seq اسمي\n",
      "reshaped_text ﺍﺳﻤﻲ\n",
      "bidi_text ﻲﻤﺳﺍ\n",
      "elapsed_time 0.7496547698974609\n",
      "old_text ﺍﺳﻤﻲ\n"
     ]
    },
    {
     "name": "stderr",
     "output_type": "stream",
     "text": [
      "c:\\Users\\User\\AppData\\Local\\Programs\\Python\\Python39\\lib\\site-packages\\sklearn\\base.py:493: UserWarning: X does not have valid feature names, but StandardScaler was fitted with feature names\n",
      "  warnings.warn(\n",
      "c:\\Users\\User\\AppData\\Local\\Programs\\Python\\Python39\\lib\\site-packages\\sklearn\\base.py:493: UserWarning: X does not have valid feature names, but StandardScaler was fitted with feature names\n",
      "  warnings.warn(\n"
     ]
    },
    {
     "name": "stdout",
     "output_type": "stream",
     "text": [
      "body_language_class Ismy\n",
      "Ismy [0.43 0.07 0.36 0.   0.14]\n",
      "i ['Ismy', 'اسمي']\n",
      "seq اسمي\n",
      "reshaped_text ﺍﺳﻤﻲ\n",
      "bidi_text ﻲﻤﺳﺍ\n",
      "elapsed_time 1.5972530841827393\n",
      "old_text ﺍﺳﻤﻲ\n"
     ]
    },
    {
     "name": "stderr",
     "output_type": "stream",
     "text": [
      "c:\\Users\\User\\AppData\\Local\\Programs\\Python\\Python39\\lib\\site-packages\\sklearn\\base.py:493: UserWarning: X does not have valid feature names, but StandardScaler was fitted with feature names\n",
      "  warnings.warn(\n",
      "c:\\Users\\User\\AppData\\Local\\Programs\\Python\\Python39\\lib\\site-packages\\sklearn\\base.py:493: UserWarning: X does not have valid feature names, but StandardScaler was fitted with feature names\n",
      "  warnings.warn(\n"
     ]
    },
    {
     "name": "stdout",
     "output_type": "stream",
     "text": [
      "body_language_class alekom\n",
      "alekom [0.24 0.06 0.43 0.02 0.25]\n",
      "i ['alekom', 'عليكم']\n",
      "seq عليكم\n",
      "reshaped_text ﻋﻠﻴﻜﻢ\n",
      "bidi_text ﻢﻜﻴﻠﻋ\n",
      "elapsed_time 2.5819406509399414\n",
      "old_text ﻋﻠﻴﻜﻢ\n"
     ]
    },
    {
     "name": "stderr",
     "output_type": "stream",
     "text": [
      "c:\\Users\\User\\AppData\\Local\\Programs\\Python\\Python39\\lib\\site-packages\\sklearn\\base.py:493: UserWarning: X does not have valid feature names, but StandardScaler was fitted with feature names\n",
      "  warnings.warn(\n",
      "c:\\Users\\User\\AppData\\Local\\Programs\\Python\\Python39\\lib\\site-packages\\sklearn\\base.py:493: UserWarning: X does not have valid feature names, but StandardScaler was fitted with feature names\n",
      "  warnings.warn(\n"
     ]
    },
    {
     "name": "stdout",
     "output_type": "stream",
     "text": [
      "body_language_class alekom\n",
      "alekom [0.23 0.06 0.52 0.01 0.18]\n",
      "i ['alekom', 'عليكم']\n",
      "seq عليكم\n",
      "reshaped_text ﻋﻠﻴﻜﻢ\n",
      "bidi_text ﻢﻜﻴﻠﻋ\n",
      "elapsed_time 3.0672829151153564\n",
      "arabic,text  ﻋﻠﻴﻜﻢ ﺍﺳﻤﻲ ﺍﺳﻤﻲ ﺍﻟﺴﻼﻡ ﻋﻠﻴﻜﻢ ﺍﺳﻤﻲ ﺍﻟﺴﻼﻡ ﻋﻠﻴﻜﻢ ﺍﺳﻤﻲ ﻋﻠﻴﻜﻢ\n",
      "old_text ﻋﻠﻴﻜﻢ\n"
     ]
    },
    {
     "name": "stderr",
     "output_type": "stream",
     "text": [
      "c:\\Users\\User\\AppData\\Local\\Programs\\Python\\Python39\\lib\\site-packages\\sklearn\\base.py:493: UserWarning: X does not have valid feature names, but StandardScaler was fitted with feature names\n",
      "  warnings.warn(\n",
      "c:\\Users\\User\\AppData\\Local\\Programs\\Python\\Python39\\lib\\site-packages\\sklearn\\base.py:493: UserWarning: X does not have valid feature names, but StandardScaler was fitted with feature names\n",
      "  warnings.warn(\n"
     ]
    },
    {
     "name": "stdout",
     "output_type": "stream",
     "text": [
      "body_language_class alekom\n",
      "alekom [0.18 0.03 0.48 0.03 0.28]\n",
      "i ['alekom', 'عليكم']\n",
      "seq عليكم\n",
      "reshaped_text ﻋﻠﻴﻜﻢ\n",
      "bidi_text ﻢﻜﻴﻠﻋ\n",
      "elapsed_time 0.7775459289550781\n",
      "old_text ﻋﻠﻴﻜﻢ\n"
     ]
    }
   ],
   "source": [
    "cap = cv2.VideoCapture(0)\n",
    "# arabic words\n",
    "labels_dict = [[\"al salam\",\"السلام\"],[\"alsalam\",\"السلام\"],[\"alekom\",\"عليكم\"],[\"Ismy\",\"اسمي\"],[\"ana\",\"أنا\"]]\n",
    "fontFile =\"F:\\\\Arabic-Sign-Language-main\\\\fonts\\\\Sahel.ttf\"\n",
    "font = ImageFont.truetype(fontFile, 70)\n",
    "arabic_text=\"\"\n",
    "old_text=\"\"\n",
    "# voice\n",
    "duration =2\n",
    "start_time = time.time()\n",
    "all_temp=\"\"\n",
    "# Initiate holistic model\n",
    "with mp_holistic.Holistic(min_detection_confidence=0.5, min_tracking_confidence=0.5) as holistic:\n",
    "    \n",
    "    \n",
    "    while cap.isOpened():\n",
    "        ret, frame = cap.read()\n",
    "        \n",
    "        # Recolor Feed\n",
    "        image = cv2.cvtColor(frame, cv2.COLOR_BGR2RGB)\n",
    "        image.flags.writeable = False        \n",
    "        \n",
    "        # Make Detections\n",
    "        results = holistic.process(image)\n",
    "        # print(results.face_landmarks)\n",
    "        \n",
    "        # face_landmarks, pose_landmarks, left_hand_landmarks, right_hand_landmarks\n",
    "        \n",
    "        # Recolor image back to BGR for rendering\n",
    "        image.flags.writeable = True   \n",
    "        image = cv2.cvtColor(image, cv2.COLOR_RGB2BGR)\n",
    "        \n",
    "        # 1. Draw face landmarks\n",
    "        mp_drawing.draw_landmarks(image, results.face_landmarks, mp_holistic.FACEMESH_CONTOURS, \n",
    "                                 mp_drawing.DrawingSpec(color=(80,110,10), thickness=1, circle_radius=1),\n",
    "                                 mp_drawing.DrawingSpec(color=(80,256,121), thickness=1, circle_radius=1)\n",
    "                                 )\n",
    "        \n",
    "        # 2. Right hand\n",
    "        mp_drawing.draw_landmarks(image, results.right_hand_landmarks, mp_holistic.HAND_CONNECTIONS, \n",
    "                                 mp_drawing.DrawingSpec(color=(80,22,10), thickness=2, circle_radius=4),\n",
    "                                 mp_drawing.DrawingSpec(color=(80,44,121), thickness=2, circle_radius=2)\n",
    "                                 )\n",
    "\n",
    "        # 3. Left Hand\n",
    "        mp_drawing.draw_landmarks(image, results.left_hand_landmarks, mp_holistic.HAND_CONNECTIONS, \n",
    "                                 mp_drawing.DrawingSpec(color=(121,22,76), thickness=2, circle_radius=4),\n",
    "                                 mp_drawing.DrawingSpec(color=(121,44,250), thickness=2, circle_radius=2)\n",
    "                                 )\n",
    "\n",
    "        # 4. Pose Detections\n",
    "        mp_drawing.draw_landmarks(image, results.pose_landmarks, mp_holistic.POSE_CONNECTIONS, \n",
    "                                 mp_drawing.DrawingSpec(color=(245,117,66), thickness=2, circle_radius=4),\n",
    "                                 mp_drawing.DrawingSpec(color=(245,66,230), thickness=2, circle_radius=2)\n",
    "                                 )\n",
    "        # Export coordinates\n",
    "     \n",
    "        # Extract Pose landmarks\n",
    "        pose = results.pose_landmarks.landmark\n",
    "        pose_row = list(np.array([[landmark.x, landmark.y, landmark.z, landmark.visibility] for landmark in pose]).flatten())\n",
    "        \n",
    "        # Extract Face landmarks\n",
    "        face = results.face_landmarks.landmark\n",
    "        face_row = list(np.array([[landmark.x, landmark.y, landmark.z, landmark.visibility] for landmark in face]).flatten())\n",
    "    \n",
    "        # Concate rows\n",
    "        row = pose_row+face_row\n",
    "        \n",
    "        \n",
    "#             # Append class name \n",
    "#             row.insert(0, class_name)\n",
    "        \n",
    "#             # Export to CSV\n",
    "#             with open('coords.csv', mode='a', newline='') as f:\n",
    "#                 csv_writer = csv.writer(f, delimiter=',', quotechar='\"', quoting=csv.QUOTE_MINIMAL)\n",
    "#                 csv_writer.writerow(row) \n",
    "\n",
    "        # Make Detections\n",
    "        X = pd.DataFrame([row])\n",
    "        body_language_class = model.predict(X)[0]\n",
    "        print(\"body_language_class\",body_language_class)\n",
    "        body_language_prob = model.predict_proba(X)[0]\n",
    "        print(body_language_class, body_language_prob)\n",
    "        \n",
    "        #arabic text\n",
    "        \n",
    "        sequence = extract_arabic(body_language_class,labels_dict)\n",
    "        print(\"seq\",sequence)\n",
    "        reshaped_text = arabic_reshaper.reshape(sequence)   \n",
    "        print(\"reshaped_text\",reshaped_text)\n",
    "        bidi_text = get_display(reshaped_text)\n",
    "        print(\"bidi_text\",bidi_text)\n",
    "        \n",
    "        img_pil = Image.fromarray(frame)\n",
    "        draw = ImageDraw.Draw(img_pil)\n",
    "        draw.text((97,15), bidi_text, (0,0,0), font=font)\n",
    "        frame = np.array(img_pil)\n",
    "        \n",
    "        #Arabic voice\n",
    "        \n",
    "        current_time = time.time()\n",
    "        elapsed_time = current_time - start_time\n",
    "        print(\"elapsed_time\",elapsed_time)\n",
    "        if reshaped_text==old_text and elapsed_time >= duration:\n",
    "            pygame.init()\n",
    "            pygame.mixer.init()\n",
    "            sound=speake(reshaped_text)\n",
    "            sound.seek(0)\n",
    "            pygame.mixer.music.load(sound,\"mp3\")\n",
    "            pygame.mixer.music.play()\n",
    "            temp=reshaped_text   \n",
    "            arabic_text=  arabic_text+\" \"+temp\n",
    "            print(\"arabic,text\",arabic_text)\n",
    "            start_time = time.time()\n",
    "        old_text=reshaped_text\n",
    "        print(\"old_text\",old_text)\n",
    "        \n",
    "        \n",
    "        \n",
    "        # Grab ear coords\n",
    "        coords = tuple(np.multiply(\n",
    "                        np.array(\n",
    "                            (results.pose_landmarks.landmark[mp_holistic.PoseLandmark.LEFT_EAR].x, \n",
    "                                results.pose_landmarks.landmark[mp_holistic.PoseLandmark.LEFT_EAR].y))\n",
    "                    , [640,480]).astype(int))\n",
    "        \n",
    "        cv2.rectangle(image, \n",
    "                        (coords[0], coords[1]+5), \n",
    "                        (coords[0]+len(body_language_class)*20, coords[1]-30), \n",
    "                        (245, 117, 16), -1)\n",
    "        cv2.putText(image, body_language_class, coords, \n",
    "                    cv2.FONT_HERSHEY_SIMPLEX, 1, (255, 255, 255), 2, cv2.LINE_AA)\n",
    "        \n",
    "        # Get status box\n",
    "        cv2.rectangle(image, (0,0), (250, 60), (245, 117, 16), -1)\n",
    "        \n",
    "        # Display Class\n",
    "        \n",
    "        cv2.putText(image, 'CLASS'\n",
    "                    , (95,12), cv2.FONT_HERSHEY_SIMPLEX, 0.5, (0, 0, 0), 1, cv2.LINE_AA)\n",
    "        cv2.putText(image, body_language_class.split(' ')[0]\n",
    "                    , (90,40), cv2.FONT_HERSHEY_SIMPLEX, 1, (255, 255, 255), 2, cv2.LINE_AA)\n",
    "        \n",
    "        \n",
    "        # Display Probability\n",
    "        \n",
    "        cv2.putText(image, 'PROB'\n",
    "                    , (15,12), cv2.FONT_HERSHEY_SIMPLEX, 0.5, (0, 0, 0), 1, cv2.LINE_AA)\n",
    "        cv2.putText(image, str(round(body_language_prob[np.argmax(body_language_prob)],2))\n",
    "                    , (10,40), cv2.FONT_HERSHEY_SIMPLEX, 1, (255, 255, 255), 2, cv2.LINE_AA)\n",
    "        \n",
    "   \n",
    "                        \n",
    "        cv2.imshow('Raw Webcam Feed', image)\n",
    "\n",
    "        if cv2.waitKey(10) & 0xFF == ord('q'):\n",
    "            break\n",
    "\n",
    "cap.release()\n",
    "cv2.destroyAllWindows()"
   ]
  },
  {
   "cell_type": "code",
   "execution_count": 38,
   "metadata": {},
   "outputs": [],
   "source": [
    "cap.release()"
   ]
  },
  {
   "cell_type": "code",
   "execution_count": null,
   "metadata": {},
   "outputs": [],
   "source": [
    "tem=\"السلام عليكم أنا اسمي\""
   ]
  },
  {
   "cell_type": "code",
   "execution_count": null,
   "metadata": {},
   "outputs": [
    {
     "name": "stdout",
     "output_type": "stream",
     "text": [
      " ﺍﻟﺴﻼﻡ ﺍﺳﻤﻲ ﻋﻠﻴﻜﻢ ﺍﻟﺴﻼﻡ ﻋﻠﻴﻜﻢ ﺍﻟﺴﻼﻡ ﻋﻠﻴﻜﻢ ﻋﻠﻴﻜﻢ\n"
     ]
    }
   ],
   "source": [
    "print(arabic_text)"
   ]
  },
  {
   "cell_type": "code",
   "execution_count": 36,
   "metadata": {},
   "outputs": [
    {
     "ename": "gTTSError",
     "evalue": "Failed to connect. Probable cause: Unknown",
     "output_type": "error",
     "traceback": [
      "\u001b[1;31m---------------------------------------------------------------------------\u001b[0m",
      "\u001b[1;31mgaierror\u001b[0m                                  Traceback (most recent call last)",
      "File \u001b[1;32mc:\\Users\\User\\AppData\\Local\\Programs\\Python\\Python39\\lib\\site-packages\\urllib3\\connection.py:159\u001b[0m, in \u001b[0;36mHTTPConnection._new_conn\u001b[1;34m(self)\u001b[0m\n\u001b[0;32m    158\u001b[0m \u001b[39mtry\u001b[39;00m:\n\u001b[1;32m--> 159\u001b[0m     conn \u001b[39m=\u001b[39m connection\u001b[39m.\u001b[39mcreate_connection(\n\u001b[0;32m    160\u001b[0m         (\u001b[39mself\u001b[39m\u001b[39m.\u001b[39m_dns_host, \u001b[39mself\u001b[39m\u001b[39m.\u001b[39mport), \u001b[39mself\u001b[39m\u001b[39m.\u001b[39mtimeout, \u001b[39m*\u001b[39m\u001b[39m*\u001b[39mextra_kw\n\u001b[0;32m    161\u001b[0m     )\n\u001b[0;32m    163\u001b[0m \u001b[39mexcept\u001b[39;00m SocketTimeout:\n",
      "File \u001b[1;32mc:\\Users\\User\\AppData\\Local\\Programs\\Python\\Python39\\lib\\site-packages\\urllib3\\util\\connection.py:61\u001b[0m, in \u001b[0;36mcreate_connection\u001b[1;34m(address, timeout, source_address, socket_options)\u001b[0m\n\u001b[0;32m     59\u001b[0m family \u001b[39m=\u001b[39m allowed_gai_family()\n\u001b[1;32m---> 61\u001b[0m \u001b[39mfor\u001b[39;00m res \u001b[39min\u001b[39;00m socket\u001b[39m.\u001b[39;49mgetaddrinfo(host, port, family, socket\u001b[39m.\u001b[39;49mSOCK_STREAM):\n\u001b[0;32m     62\u001b[0m     af, socktype, proto, canonname, sa \u001b[39m=\u001b[39m res\n",
      "File \u001b[1;32mc:\\Users\\User\\AppData\\Local\\Programs\\Python\\Python39\\lib\\socket.py:953\u001b[0m, in \u001b[0;36mgetaddrinfo\u001b[1;34m(host, port, family, type, proto, flags)\u001b[0m\n\u001b[0;32m    952\u001b[0m addrlist \u001b[39m=\u001b[39m []\n\u001b[1;32m--> 953\u001b[0m \u001b[39mfor\u001b[39;00m res \u001b[39min\u001b[39;00m _socket\u001b[39m.\u001b[39;49mgetaddrinfo(host, port, family, \u001b[39mtype\u001b[39;49m, proto, flags):\n\u001b[0;32m    954\u001b[0m     af, socktype, proto, canonname, sa \u001b[39m=\u001b[39m res\n",
      "\u001b[1;31mgaierror\u001b[0m: [Errno 11001] getaddrinfo failed",
      "\nDuring handling of the above exception, another exception occurred:\n",
      "\u001b[1;31mNewConnectionError\u001b[0m                        Traceback (most recent call last)",
      "File \u001b[1;32mc:\\Users\\User\\AppData\\Local\\Programs\\Python\\Python39\\lib\\site-packages\\urllib3\\connectionpool.py:670\u001b[0m, in \u001b[0;36mHTTPConnectionPool.urlopen\u001b[1;34m(self, method, url, body, headers, retries, redirect, assert_same_host, timeout, pool_timeout, release_conn, chunked, body_pos, **response_kw)\u001b[0m\n\u001b[0;32m    669\u001b[0m \u001b[39m# Make the request on the httplib connection object.\u001b[39;00m\n\u001b[1;32m--> 670\u001b[0m httplib_response \u001b[39m=\u001b[39m \u001b[39mself\u001b[39;49m\u001b[39m.\u001b[39;49m_make_request(\n\u001b[0;32m    671\u001b[0m     conn,\n\u001b[0;32m    672\u001b[0m     method,\n\u001b[0;32m    673\u001b[0m     url,\n\u001b[0;32m    674\u001b[0m     timeout\u001b[39m=\u001b[39;49mtimeout_obj,\n\u001b[0;32m    675\u001b[0m     body\u001b[39m=\u001b[39;49mbody,\n\u001b[0;32m    676\u001b[0m     headers\u001b[39m=\u001b[39;49mheaders,\n\u001b[0;32m    677\u001b[0m     chunked\u001b[39m=\u001b[39;49mchunked,\n\u001b[0;32m    678\u001b[0m )\n\u001b[0;32m    680\u001b[0m \u001b[39m# If we're going to release the connection in ``finally:``, then\u001b[39;00m\n\u001b[0;32m    681\u001b[0m \u001b[39m# the response doesn't need to know about the connection. Otherwise\u001b[39;00m\n\u001b[0;32m    682\u001b[0m \u001b[39m# it will also try to release it and we'll have a double-release\u001b[39;00m\n\u001b[0;32m    683\u001b[0m \u001b[39m# mess.\u001b[39;00m\n",
      "File \u001b[1;32mc:\\Users\\User\\AppData\\Local\\Programs\\Python\\Python39\\lib\\site-packages\\urllib3\\connectionpool.py:381\u001b[0m, in \u001b[0;36mHTTPConnectionPool._make_request\u001b[1;34m(self, conn, method, url, timeout, chunked, **httplib_request_kw)\u001b[0m\n\u001b[0;32m    380\u001b[0m \u001b[39mtry\u001b[39;00m:\n\u001b[1;32m--> 381\u001b[0m     \u001b[39mself\u001b[39;49m\u001b[39m.\u001b[39;49m_validate_conn(conn)\n\u001b[0;32m    382\u001b[0m \u001b[39mexcept\u001b[39;00m (SocketTimeout, BaseSSLError) \u001b[39mas\u001b[39;00m e:\n\u001b[0;32m    383\u001b[0m     \u001b[39m# Py2 raises this as a BaseSSLError, Py3 raises it as socket timeout.\u001b[39;00m\n",
      "File \u001b[1;32mc:\\Users\\User\\AppData\\Local\\Programs\\Python\\Python39\\lib\\site-packages\\urllib3\\connectionpool.py:978\u001b[0m, in \u001b[0;36mHTTPSConnectionPool._validate_conn\u001b[1;34m(self, conn)\u001b[0m\n\u001b[0;32m    977\u001b[0m \u001b[39mif\u001b[39;00m \u001b[39mnot\u001b[39;00m \u001b[39mgetattr\u001b[39m(conn, \u001b[39m\"\u001b[39m\u001b[39msock\u001b[39m\u001b[39m\"\u001b[39m, \u001b[39mNone\u001b[39;00m):  \u001b[39m# AppEngine might not have  `.sock`\u001b[39;00m\n\u001b[1;32m--> 978\u001b[0m     conn\u001b[39m.\u001b[39;49mconnect()\n\u001b[0;32m    980\u001b[0m \u001b[39mif\u001b[39;00m \u001b[39mnot\u001b[39;00m conn\u001b[39m.\u001b[39mis_verified:\n",
      "File \u001b[1;32mc:\\Users\\User\\AppData\\Local\\Programs\\Python\\Python39\\lib\\site-packages\\urllib3\\connection.py:309\u001b[0m, in \u001b[0;36mHTTPSConnection.connect\u001b[1;34m(self)\u001b[0m\n\u001b[0;32m    307\u001b[0m \u001b[39mdef\u001b[39;00m \u001b[39mconnect\u001b[39m(\u001b[39mself\u001b[39m):\n\u001b[0;32m    308\u001b[0m     \u001b[39m# Add certificate verification\u001b[39;00m\n\u001b[1;32m--> 309\u001b[0m     conn \u001b[39m=\u001b[39m \u001b[39mself\u001b[39;49m\u001b[39m.\u001b[39;49m_new_conn()\n\u001b[0;32m    310\u001b[0m     hostname \u001b[39m=\u001b[39m \u001b[39mself\u001b[39m\u001b[39m.\u001b[39mhost\n",
      "File \u001b[1;32mc:\\Users\\User\\AppData\\Local\\Programs\\Python\\Python39\\lib\\site-packages\\urllib3\\connection.py:171\u001b[0m, in \u001b[0;36mHTTPConnection._new_conn\u001b[1;34m(self)\u001b[0m\n\u001b[0;32m    170\u001b[0m \u001b[39mexcept\u001b[39;00m SocketError \u001b[39mas\u001b[39;00m e:\n\u001b[1;32m--> 171\u001b[0m     \u001b[39mraise\u001b[39;00m NewConnectionError(\n\u001b[0;32m    172\u001b[0m         \u001b[39mself\u001b[39m, \u001b[39m\"\u001b[39m\u001b[39mFailed to establish a new connection: \u001b[39m\u001b[39m%s\u001b[39;00m\u001b[39m\"\u001b[39m \u001b[39m%\u001b[39m e\n\u001b[0;32m    173\u001b[0m     )\n\u001b[0;32m    175\u001b[0m \u001b[39mreturn\u001b[39;00m conn\n",
      "\u001b[1;31mNewConnectionError\u001b[0m: <urllib3.connection.HTTPSConnection object at 0x00000093D1218B20>: Failed to establish a new connection: [Errno 11001] getaddrinfo failed",
      "\nDuring handling of the above exception, another exception occurred:\n",
      "\u001b[1;31mMaxRetryError\u001b[0m                             Traceback (most recent call last)",
      "File \u001b[1;32mc:\\Users\\User\\AppData\\Local\\Programs\\Python\\Python39\\lib\\site-packages\\requests\\adapters.py:486\u001b[0m, in \u001b[0;36mHTTPAdapter.send\u001b[1;34m(self, request, stream, timeout, verify, cert, proxies)\u001b[0m\n\u001b[0;32m    485\u001b[0m \u001b[39mtry\u001b[39;00m:\n\u001b[1;32m--> 486\u001b[0m     resp \u001b[39m=\u001b[39m conn\u001b[39m.\u001b[39;49murlopen(\n\u001b[0;32m    487\u001b[0m         method\u001b[39m=\u001b[39;49mrequest\u001b[39m.\u001b[39;49mmethod,\n\u001b[0;32m    488\u001b[0m         url\u001b[39m=\u001b[39;49murl,\n\u001b[0;32m    489\u001b[0m         body\u001b[39m=\u001b[39;49mrequest\u001b[39m.\u001b[39;49mbody,\n\u001b[0;32m    490\u001b[0m         headers\u001b[39m=\u001b[39;49mrequest\u001b[39m.\u001b[39;49mheaders,\n\u001b[0;32m    491\u001b[0m         redirect\u001b[39m=\u001b[39;49m\u001b[39mFalse\u001b[39;49;00m,\n\u001b[0;32m    492\u001b[0m         assert_same_host\u001b[39m=\u001b[39;49m\u001b[39mFalse\u001b[39;49;00m,\n\u001b[0;32m    493\u001b[0m         preload_content\u001b[39m=\u001b[39;49m\u001b[39mFalse\u001b[39;49;00m,\n\u001b[0;32m    494\u001b[0m         decode_content\u001b[39m=\u001b[39;49m\u001b[39mFalse\u001b[39;49;00m,\n\u001b[0;32m    495\u001b[0m         retries\u001b[39m=\u001b[39;49m\u001b[39mself\u001b[39;49m\u001b[39m.\u001b[39;49mmax_retries,\n\u001b[0;32m    496\u001b[0m         timeout\u001b[39m=\u001b[39;49mtimeout,\n\u001b[0;32m    497\u001b[0m         chunked\u001b[39m=\u001b[39;49mchunked,\n\u001b[0;32m    498\u001b[0m     )\n\u001b[0;32m    500\u001b[0m \u001b[39mexcept\u001b[39;00m (ProtocolError, \u001b[39mOSError\u001b[39;00m) \u001b[39mas\u001b[39;00m err:\n",
      "File \u001b[1;32mc:\\Users\\User\\AppData\\Local\\Programs\\Python\\Python39\\lib\\site-packages\\urllib3\\connectionpool.py:726\u001b[0m, in \u001b[0;36mHTTPConnectionPool.urlopen\u001b[1;34m(self, method, url, body, headers, retries, redirect, assert_same_host, timeout, pool_timeout, release_conn, chunked, body_pos, **response_kw)\u001b[0m\n\u001b[0;32m    724\u001b[0m     e \u001b[39m=\u001b[39m ProtocolError(\u001b[39m\"\u001b[39m\u001b[39mConnection aborted.\u001b[39m\u001b[39m\"\u001b[39m, e)\n\u001b[1;32m--> 726\u001b[0m retries \u001b[39m=\u001b[39m retries\u001b[39m.\u001b[39;49mincrement(\n\u001b[0;32m    727\u001b[0m     method, url, error\u001b[39m=\u001b[39;49me, _pool\u001b[39m=\u001b[39;49m\u001b[39mself\u001b[39;49m, _stacktrace\u001b[39m=\u001b[39;49msys\u001b[39m.\u001b[39;49mexc_info()[\u001b[39m2\u001b[39;49m]\n\u001b[0;32m    728\u001b[0m )\n\u001b[0;32m    729\u001b[0m retries\u001b[39m.\u001b[39msleep()\n",
      "File \u001b[1;32mc:\\Users\\User\\AppData\\Local\\Programs\\Python\\Python39\\lib\\site-packages\\urllib3\\util\\retry.py:446\u001b[0m, in \u001b[0;36mRetry.increment\u001b[1;34m(self, method, url, response, error, _pool, _stacktrace)\u001b[0m\n\u001b[0;32m    445\u001b[0m \u001b[39mif\u001b[39;00m new_retry\u001b[39m.\u001b[39mis_exhausted():\n\u001b[1;32m--> 446\u001b[0m     \u001b[39mraise\u001b[39;00m MaxRetryError(_pool, url, error \u001b[39mor\u001b[39;00m ResponseError(cause))\n\u001b[0;32m    448\u001b[0m log\u001b[39m.\u001b[39mdebug(\u001b[39m\"\u001b[39m\u001b[39mIncremented Retry for (url=\u001b[39m\u001b[39m'\u001b[39m\u001b[39m%s\u001b[39;00m\u001b[39m'\u001b[39m\u001b[39m): \u001b[39m\u001b[39m%r\u001b[39;00m\u001b[39m\"\u001b[39m, url, new_retry)\n",
      "\u001b[1;31mMaxRetryError\u001b[0m: HTTPSConnectionPool(host='translate.google.com', port=443): Max retries exceeded with url: /_/TranslateWebserverUi/data/batchexecute (Caused by NewConnectionError('<urllib3.connection.HTTPSConnection object at 0x00000093D1218B20>: Failed to establish a new connection: [Errno 11001] getaddrinfo failed'))",
      "\nDuring handling of the above exception, another exception occurred:\n",
      "\u001b[1;31mConnectionError\u001b[0m                           Traceback (most recent call last)",
      "File \u001b[1;32mc:\\Users\\User\\AppData\\Local\\Programs\\Python\\Python39\\lib\\site-packages\\gtts\\tts.py:268\u001b[0m, in \u001b[0;36mgTTS.stream\u001b[1;34m(self)\u001b[0m\n\u001b[0;32m    266\u001b[0m \u001b[39mwith\u001b[39;00m requests\u001b[39m.\u001b[39mSession() \u001b[39mas\u001b[39;00m s:\n\u001b[0;32m    267\u001b[0m     \u001b[39m# Send request\u001b[39;00m\n\u001b[1;32m--> 268\u001b[0m     r \u001b[39m=\u001b[39m s\u001b[39m.\u001b[39;49msend(\n\u001b[0;32m    269\u001b[0m         request\u001b[39m=\u001b[39;49mpr,\n\u001b[0;32m    270\u001b[0m         verify\u001b[39m=\u001b[39;49m\u001b[39mFalse\u001b[39;49;00m,\n\u001b[0;32m    271\u001b[0m         proxies\u001b[39m=\u001b[39;49murllib\u001b[39m.\u001b[39;49mrequest\u001b[39m.\u001b[39;49mgetproxies(),\n\u001b[0;32m    272\u001b[0m         timeout\u001b[39m=\u001b[39;49m\u001b[39mself\u001b[39;49m\u001b[39m.\u001b[39;49mtimeout,\n\u001b[0;32m    273\u001b[0m     )\n\u001b[0;32m    275\u001b[0m log\u001b[39m.\u001b[39mdebug(\u001b[39m\"\u001b[39m\u001b[39mheaders-\u001b[39m\u001b[39m%i\u001b[39;00m\u001b[39m: \u001b[39m\u001b[39m%s\u001b[39;00m\u001b[39m\"\u001b[39m, idx, r\u001b[39m.\u001b[39mrequest\u001b[39m.\u001b[39mheaders)\n",
      "File \u001b[1;32mc:\\Users\\User\\AppData\\Local\\Programs\\Python\\Python39\\lib\\site-packages\\requests\\sessions.py:703\u001b[0m, in \u001b[0;36mSession.send\u001b[1;34m(self, request, **kwargs)\u001b[0m\n\u001b[0;32m    702\u001b[0m \u001b[39m# Send the request\u001b[39;00m\n\u001b[1;32m--> 703\u001b[0m r \u001b[39m=\u001b[39m adapter\u001b[39m.\u001b[39msend(request, \u001b[39m*\u001b[39m\u001b[39m*\u001b[39mkwargs)\n\u001b[0;32m    705\u001b[0m \u001b[39m# Total elapsed time of the request (approximately)\u001b[39;00m\n",
      "File \u001b[1;32mc:\\Users\\User\\AppData\\Local\\Programs\\Python\\Python39\\lib\\site-packages\\requests\\adapters.py:519\u001b[0m, in \u001b[0;36mHTTPAdapter.send\u001b[1;34m(self, request, stream, timeout, verify, cert, proxies)\u001b[0m\n\u001b[0;32m    517\u001b[0m         \u001b[39mraise\u001b[39;00m SSLError(e, request\u001b[39m=\u001b[39mrequest)\n\u001b[1;32m--> 519\u001b[0m     \u001b[39mraise\u001b[39;00m \u001b[39mConnectionError\u001b[39;00m(e, request\u001b[39m=\u001b[39mrequest)\n\u001b[0;32m    521\u001b[0m \u001b[39mexcept\u001b[39;00m ClosedPoolError \u001b[39mas\u001b[39;00m e:\n",
      "\u001b[1;31mConnectionError\u001b[0m: HTTPSConnectionPool(host='translate.google.com', port=443): Max retries exceeded with url: /_/TranslateWebserverUi/data/batchexecute (Caused by NewConnectionError('<urllib3.connection.HTTPSConnection object at 0x00000093D1218B20>: Failed to establish a new connection: [Errno 11001] getaddrinfo failed'))",
      "\nDuring handling of the above exception, another exception occurred:\n",
      "\u001b[1;31mgTTSError\u001b[0m                                 Traceback (most recent call last)",
      "Cell \u001b[1;32mIn[36], line 2\u001b[0m\n\u001b[0;32m      1\u001b[0m tts \u001b[39m=\u001b[39m gTTS(tem, lang\u001b[39m=\u001b[39m\u001b[39m'\u001b[39m\u001b[39mar\u001b[39m\u001b[39m'\u001b[39m)\n\u001b[1;32m----> 2\u001b[0m tts\u001b[39m.\u001b[39;49msave(\u001b[39m'\u001b[39;49m\u001b[39mtest1.mp3\u001b[39;49m\u001b[39m'\u001b[39;49m)\n\u001b[0;32m      3\u001b[0m audio_path\u001b[39m=\u001b[39m\u001b[39m\"\u001b[39m\u001b[39mtest1.mp3\u001b[39m\u001b[39m\"\u001b[39m\n\u001b[0;32m      4\u001b[0m ipd\u001b[39m.\u001b[39mAudio(audio_path, autoplay\u001b[39m=\u001b[39m\u001b[39mTrue\u001b[39;00m)\n",
      "File \u001b[1;32mc:\\Users\\User\\AppData\\Local\\Programs\\Python\\Python39\\lib\\site-packages\\gtts\\tts.py:335\u001b[0m, in \u001b[0;36mgTTS.save\u001b[1;34m(self, savefile)\u001b[0m\n\u001b[0;32m    325\u001b[0m \u001b[39m\u001b[39m\u001b[39m\"\"\"Do the TTS API request and write result to file.\u001b[39;00m\n\u001b[0;32m    326\u001b[0m \n\u001b[0;32m    327\u001b[0m \u001b[39mArgs:\u001b[39;00m\n\u001b[1;32m   (...)\u001b[0m\n\u001b[0;32m    332\u001b[0m \n\u001b[0;32m    333\u001b[0m \u001b[39m\"\"\"\u001b[39;00m\n\u001b[0;32m    334\u001b[0m \u001b[39mwith\u001b[39;00m \u001b[39mopen\u001b[39m(\u001b[39mstr\u001b[39m(savefile), \u001b[39m\"\u001b[39m\u001b[39mwb\u001b[39m\u001b[39m\"\u001b[39m) \u001b[39mas\u001b[39;00m f:\n\u001b[1;32m--> 335\u001b[0m     \u001b[39mself\u001b[39;49m\u001b[39m.\u001b[39;49mwrite_to_fp(f)\n\u001b[0;32m    336\u001b[0m     f\u001b[39m.\u001b[39mflush()\n\u001b[0;32m    337\u001b[0m     log\u001b[39m.\u001b[39mdebug(\u001b[39m\"\u001b[39m\u001b[39mSaved to \u001b[39m\u001b[39m%s\u001b[39;00m\u001b[39m\"\u001b[39m, savefile)\n",
      "File \u001b[1;32mc:\\Users\\User\\AppData\\Local\\Programs\\Python\\Python39\\lib\\site-packages\\gtts\\tts.py:316\u001b[0m, in \u001b[0;36mgTTS.write_to_fp\u001b[1;34m(self, fp)\u001b[0m\n\u001b[0;32m    304\u001b[0m \u001b[39m\u001b[39m\u001b[39m\"\"\"Do the TTS API request(s) and write bytes to a file-like object.\u001b[39;00m\n\u001b[0;32m    305\u001b[0m \n\u001b[0;32m    306\u001b[0m \u001b[39mArgs:\u001b[39;00m\n\u001b[1;32m   (...)\u001b[0m\n\u001b[0;32m    312\u001b[0m \n\u001b[0;32m    313\u001b[0m \u001b[39m\"\"\"\u001b[39;00m\n\u001b[0;32m    315\u001b[0m \u001b[39mtry\u001b[39;00m:\n\u001b[1;32m--> 316\u001b[0m     \u001b[39mfor\u001b[39;00m idx, decoded \u001b[39min\u001b[39;00m \u001b[39menumerate\u001b[39m(\u001b[39mself\u001b[39m\u001b[39m.\u001b[39mstream()):\n\u001b[0;32m    317\u001b[0m         fp\u001b[39m.\u001b[39mwrite(decoded)\n\u001b[0;32m    318\u001b[0m         log\u001b[39m.\u001b[39mdebug(\u001b[39m\"\u001b[39m\u001b[39mpart-\u001b[39m\u001b[39m%i\u001b[39;00m\u001b[39m written to \u001b[39m\u001b[39m%s\u001b[39;00m\u001b[39m\"\u001b[39m, idx, fp)\n",
      "File \u001b[1;32mc:\\Users\\User\\AppData\\Local\\Programs\\Python\\Python39\\lib\\site-packages\\gtts\\tts.py:287\u001b[0m, in \u001b[0;36mgTTS.stream\u001b[1;34m(self)\u001b[0m\n\u001b[0;32m    284\u001b[0m \u001b[39mexcept\u001b[39;00m requests\u001b[39m.\u001b[39mexceptions\u001b[39m.\u001b[39mRequestException \u001b[39mas\u001b[39;00m e:  \u001b[39m# pragma: no cover\u001b[39;00m\n\u001b[0;32m    285\u001b[0m     \u001b[39m# Request failed\u001b[39;00m\n\u001b[0;32m    286\u001b[0m     log\u001b[39m.\u001b[39mdebug(\u001b[39mstr\u001b[39m(e))\n\u001b[1;32m--> 287\u001b[0m     \u001b[39mraise\u001b[39;00m gTTSError(tts\u001b[39m=\u001b[39m\u001b[39mself\u001b[39m)\n\u001b[0;32m    289\u001b[0m \u001b[39m# Write\u001b[39;00m\n\u001b[0;32m    290\u001b[0m \u001b[39mfor\u001b[39;00m line \u001b[39min\u001b[39;00m r\u001b[39m.\u001b[39miter_lines(chunk_size\u001b[39m=\u001b[39m\u001b[39m1024\u001b[39m):\n",
      "\u001b[1;31mgTTSError\u001b[0m: Failed to connect. Probable cause: Unknown"
     ]
    }
   ],
   "source": [
    "tts = gTTS(tem, lang='ar')\n",
    "tts.save('test1.mp3')\n",
    "audio_path=\"test1.mp3\"\n",
    "ipd.Audio(audio_path, autoplay=True)"
   ]
  },
  {
   "cell_type": "code",
   "execution_count": 33,
   "metadata": {},
   "outputs": [
    {
     "data": {
      "text/html": [
       "\n",
       "                <audio  controls=\"controls\" autoplay=\"autoplay\">\n",
       "                    <source src=\"data:audio/mpeg;base64,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\" type=\"audio/mpeg\" />\n",
       "                    Your browser does not support the audio element.\n",
       "                </audio>\n",
       "              "
      ],
      "text/plain": [
       "<IPython.lib.display.Audio object>"
      ]
     },
     "execution_count": 33,
     "metadata": {},
     "output_type": "execute_result"
    }
   ],
   "source": [
    "audio_path=\"test.mp3\"\n",
    "ipd.Audio(audio_path, autoplay=True)"
   ]
  }
 ],
 "metadata": {
  "kernelspec": {
   "display_name": "Python 3",
   "language": "python",
   "name": "python3"
  },
  "language_info": {
   "codemirror_mode": {
    "name": "ipython",
    "version": 3
   },
   "file_extension": ".py",
   "mimetype": "text/x-python",
   "name": "python",
   "nbconvert_exporter": "python",
   "pygments_lexer": "ipython3",
   "version": "3.9.6"
  },
  "orig_nbformat": 4
 },
 "nbformat": 4,
 "nbformat_minor": 2
}
